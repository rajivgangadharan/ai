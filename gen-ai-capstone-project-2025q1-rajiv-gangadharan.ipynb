{
 "cells": [
  {
   "cell_type": "markdown",
   "id": "dffa9b7d",
   "metadata": {
    "papermill": {
     "duration": 0.005999,
     "end_time": "2025-04-12T20:34:48.948820",
     "exception": false,
     "start_time": "2025-04-12T20:34:48.942821",
     "status": "completed"
    },
    "tags": []
   },
   "source": [
    "# Project Information\n",
    "\n",
    "Project Background: Building a Desktop and Laptop Support Agent Assistant with Generative AI\n",
    "\n",
    "## Context\n",
    "\n",
    "In today's oganizations, providing efficient and effective customer support for technical issues related to desktops and laptops is crucial. Customer support agents often deal with a wide range of queries, from basic troubleshooting steps to more complex hardware and software problems. Access to well-structured and easily searchable support documentation is essential for agents to quickly diagnose and resolve customer issues.\n"
   ]
  },
  {
   "cell_type": "markdown",
   "id": "c38f0481",
   "metadata": {
    "papermill": {
     "duration": 0.005734,
     "end_time": "2025-04-12T20:34:48.959971",
     "exception": false,
     "start_time": "2025-04-12T20:34:48.954237",
     "status": "completed"
    },
    "tags": []
   },
   "source": [
    "## Problem Outline\n",
    "\n",
    "Traditional methods of accessing support documentation can be time-consuming. Agents may need to navigate through lengthy PDF files or knowledge base articles to find the relevant information. This can lead to longer resolution times, increased frustration for both agents and customers, and potentially lower customer satisfaction."
   ]
  },
  {
   "cell_type": "markdown",
   "id": "3905c99a",
   "metadata": {
    "papermill": {
     "duration": 0.004161,
     "end_time": "2025-04-12T20:34:48.969736",
     "exception": false,
     "start_time": "2025-04-12T20:34:48.965575",
     "status": "completed"
    },
    "tags": []
   },
   "source": [
    "##  Proposed Solution\n",
    "\n",
    "\n",
    "This project aims to leverage the power of Generative AI to create an intelligent assistant that can enhance the capabilities of customer support agents dealing with desktop and laptop issues. The core idea is to process existing support documentation (in this case, a synthetic PDF file created for this purpose) and enable agents to quickly retrieve relevant information and potentially generate helpful responses or troubleshooting steps based on customer queries."
   ]
  },
  {
   "cell_type": "markdown",
   "id": "cc65cbd3",
   "metadata": {
    "papermill": {
     "duration": 0.004225,
     "end_time": "2025-04-12T20:34:48.979801",
     "exception": false,
     "start_time": "2025-04-12T20:34:48.975576",
     "status": "completed"
    },
    "tags": []
   },
   "source": [
    "# Key Components:\n",
    "\n",
    "## Support Documentation\n",
    "\n",
    "This is the primary dataset. A synthetic PDF file containing common desktop and laptop troubleshooting steps, structured into logical sections (e.g., power issues, display problems, network connectivity, battery issues). This document serves as the knowledge base for the AI assistant.\n",
    "\n",
    "## Generative AI Model\n",
    "\n",
    "A Large Language Model (LLM), _command-r-plus_ from _COHERE_ This model will be used to understand user queries and extract relevant information from the support documentation.\n",
    "\n",
    "## Embedding Model\n",
    "\n",
    "The embedding model used is _embed-english-light-v3.0_ also from _COHERE_. \n",
    "\n",
    "## Vector Store\n",
    "\n",
    "I have used chromadb in this case. \n",
    "\n",
    "## LangChain and Langgraph Framework\n",
    "\n",
    "The LangChain library was used as the framework to connect the LLM with the support documentation. This involved techniques like:\n",
    "\n",
    "* Document Loading: Loading and processing the PDF file.\n",
    "* Text Splitting: Dividing the document into smaller chunks for efficient retrieval.\n",
    "* Vector Embeddings: Creating vector representations of the text chunks to enable semantic search.\n",
    "* Retrieval-Based Question Answering: Using a retrieval mechanism (e.g., a vector store and similarity search) to find relevant sections in the documentation based on the agent's query.\n",
    "* Response Generation: Utilizing the LLM to generate concise and helpful answers or troubleshooting steps based on the retrieved information.\n",
    "\n",
    "For the agent creation and operation, LangGraph was used."
   ]
  },
  {
   "cell_type": "markdown",
   "id": "b69a1fa7",
   "metadata": {
    "papermill": {
     "duration": 0.004199,
     "end_time": "2025-04-12T20:34:48.988364",
     "exception": false,
     "start_time": "2025-04-12T20:34:48.984165",
     "status": "completed"
    },
    "tags": []
   },
   "source": [
    "# Demonstration of AI Capabilities\n",
    "\n",
    "In this Capstone Project, the following GenAI capabilities have been demonstrated\n",
    "\n",
    "1. Structured output/JSON mode/controlled generation\n",
    "2. Few-shot prompting\n",
    "3. Document understanding\n",
    "4. Function Calling\n",
    "5. Agents\n",
    "6. Embeddings\n",
    "7. Retrieval augmented generation (RAG)\n",
    "8. Vector search/vector store/vector database\n",
    "9. Grounding"
   ]
  },
  {
   "cell_type": "code",
   "execution_count": 1,
   "id": "e602115d",
   "metadata": {
    "_cell_guid": "b1076dfc-b9ad-4769-8c92-a6c4dae69d19",
    "_uuid": "8f2839f25d086af736a60e9eeb907d3b93b6e0e5",
    "execution": {
     "iopub.execute_input": "2025-04-12T20:34:48.998437Z",
     "iopub.status.busy": "2025-04-12T20:34:48.998169Z",
     "iopub.status.idle": "2025-04-12T20:34:50.574066Z",
     "shell.execute_reply": "2025-04-12T20:34:50.573117Z"
    },
    "papermill": {
     "duration": 1.582609,
     "end_time": "2025-04-12T20:34:50.575340",
     "exception": false,
     "start_time": "2025-04-12T20:34:48.992731",
     "status": "completed"
    },
    "tags": []
   },
   "outputs": [
    {
     "name": "stdout",
     "output_type": "stream",
     "text": [
      "../input/pm-80499167-at-04-12-2025-20-34-13/__script__.py\n",
      "../input/pm-80499167-at-04-12-2025-20-34-13/__results__.html\n",
      "../input/pm-80499167-at-04-12-2025-20-34-13/input_requirements.txt\n",
      "../input/pm-80499167-at-04-12-2025-20-34-13/__script__.ipynb\n",
      "../input/pm-80499167-at-04-12-2025-20-34-13/__output__.json\n",
      "../input/pm-80499167-at-04-12-2025-20-34-13/custom.css\n",
      "../input/support-documentation/support_documentation.pdf\n"
     ]
    }
   ],
   "source": [
    "# This Python 3 environment comes with many helpful analytics libraries installed\n",
    "# It is defined by the kaggle/python Docker image: https://github.com/kaggle/docker-python\n",
    "# For example, here's several helpful packages to load\n",
    "\n",
    "import numpy as np # linear algebra\n",
    "import pandas as pd # data processing, CSV file I/O (e.g. pd.read_csv)\n",
    "\n",
    "# Input data files are available in the read-only \"../input/\" directory\n",
    "# For example, running this (by clicking run or pressing Shift+Enter) will list all files under the input directory\n",
    "\n",
    "import os\n",
    "for dirname, _, filenames in os.walk('../input'):\n",
    "    for filename in filenames:\n",
    "        print(os.path.join(dirname, filename))\n",
    "\n",
    "# You can write up to 20GB to the current directory (/kaggle/working/) that gets preserved as output when you create a version using \"Save & Run All\" \n",
    "# You can also write temporary files to /kaggle/temp/, but they won't be saved outside of the current session"
   ]
  },
  {
   "cell_type": "code",
   "execution_count": 2,
   "id": "5b4efdb7",
   "metadata": {
    "execution": {
     "iopub.execute_input": "2025-04-12T20:34:50.585612Z",
     "iopub.status.busy": "2025-04-12T20:34:50.585333Z",
     "iopub.status.idle": "2025-04-12T20:36:59.982863Z",
     "shell.execute_reply": "2025-04-12T20:36:59.981952Z"
    },
    "papermill": {
     "duration": 129.404105,
     "end_time": "2025-04-12T20:36:59.984291",
     "exception": false,
     "start_time": "2025-04-12T20:34:50.580186",
     "status": "completed"
    },
    "tags": []
   },
   "outputs": [
    {
     "name": "stdout",
     "output_type": "stream",
     "text": [
      "\u001b[2K   \u001b[90m━━━━━━━━━━━━━━━━━━━━━━━━━━━━━━━━━━━━━━━━\u001b[0m \u001b[32m423.3/423.3 kB\u001b[0m \u001b[31m8.5 MB/s\u001b[0m eta \u001b[36m0:00:00\u001b[0m\r\n",
      "\u001b[2K   \u001b[90m━━━━━━━━━━━━━━━━━━━━━━━━━━━━━━━━━━━━━━━━\u001b[0m \u001b[32m1.0/1.0 MB\u001b[0m \u001b[31m36.0 MB/s\u001b[0m eta \u001b[36m0:00:00\u001b[0m\r\n",
      "\u001b[2K   \u001b[90m━━━━━━━━━━━━━━━━━━━━━━━━━━━━━━━━━━━━━━━━\u001b[0m \u001b[32m10.4/10.4 MB\u001b[0m \u001b[31m80.6 MB/s\u001b[0m eta \u001b[36m0:00:00\u001b[0m\r\n",
      "\u001b[2K   \u001b[90m━━━━━━━━━━━━━━━━━━━━━━━━━━━━━━━━━━━━━━━━\u001b[0m \u001b[32m340.6/340.6 kB\u001b[0m \u001b[31m26.0 MB/s\u001b[0m eta \u001b[36m0:00:00\u001b[0m\r\n",
      "\u001b[2K   \u001b[90m━━━━━━━━━━━━━━━━━━━━━━━━━━━━━━━━━━━━━━━━\u001b[0m \u001b[32m363.4/363.4 MB\u001b[0m \u001b[31m4.7 MB/s\u001b[0m eta \u001b[36m0:00:00\u001b[0m\r\n",
      "\u001b[2K   \u001b[90m━━━━━━━━━━━━━━━━━━━━━━━━━━━━━━━━━━━━━━━━\u001b[0m \u001b[32m664.8/664.8 MB\u001b[0m \u001b[31m2.4 MB/s\u001b[0m eta \u001b[36m0:00:00\u001b[0m\r\n",
      "\u001b[2K   \u001b[90m━━━━━━━━━━━━━━━━━━━━━━━━━━━━━━━━━━━━━━━━\u001b[0m \u001b[32m211.5/211.5 MB\u001b[0m \u001b[31m5.3 MB/s\u001b[0m eta \u001b[36m0:00:00\u001b[0m\r\n",
      "\u001b[2K   \u001b[90m━━━━━━━━━━━━━━━━━━━━━━━━━━━━━━━━━━━━━━━━\u001b[0m \u001b[32m56.3/56.3 MB\u001b[0m \u001b[31m31.3 MB/s\u001b[0m eta \u001b[36m0:00:00\u001b[0m\r\n",
      "\u001b[2K   \u001b[90m━━━━━━━━━━━━━━━━━━━━━━━━━━━━━━━━━━━━━━━━\u001b[0m \u001b[32m127.9/127.9 MB\u001b[0m \u001b[31m13.4 MB/s\u001b[0m eta \u001b[36m0:00:00\u001b[0m\r\n",
      "\u001b[2K   \u001b[90m━━━━━━━━━━━━━━━━━━━━━━━━━━━━━━━━━━━━━━━━\u001b[0m \u001b[32m207.5/207.5 MB\u001b[0m \u001b[31m2.2 MB/s\u001b[0m eta \u001b[36m0:00:00\u001b[0m\r\n",
      "\u001b[2K   \u001b[90m━━━━━━━━━━━━━━━━━━━━━━━━━━━━━━━━━━━━━━━━\u001b[0m \u001b[32m21.1/21.1 MB\u001b[0m \u001b[31m67.7 MB/s\u001b[0m eta \u001b[36m0:00:00\u001b[0m\r\n",
      "\u001b[?25h\u001b[31mERROR: pip's dependency resolver does not currently take into account all the packages that are installed. This behaviour is the source of the following dependency conflicts.\r\n",
      "cuml-cu12 25.2.1 requires pylibraft-cu12==25.2.*, which is not installed.\r\n",
      "cuvs-cu12 25.2.1 requires pylibraft-cu12==25.2.*, which is not installed.\r\n",
      "pylibcugraph-cu12 24.12.0 requires pylibraft-cu12==24.12.*, which is not installed.\r\n",
      "pylibcugraph-cu12 24.12.0 requires rmm-cu12==24.12.*, but you have rmm-cu12 25.2.0 which is incompatible.\u001b[0m\u001b[31m\r\n",
      "\u001b[2K   \u001b[90m━━━━━━━━━━━━━━━━━━━━━━━━━━━━━━━━━━━━━━━━\u001b[0m \u001b[32m306.7/306.7 kB\u001b[0m \u001b[31m6.4 MB/s\u001b[0m eta \u001b[36m0:00:00\u001b[0m\r\n",
      "\u001b[2K   \u001b[90m━━━━━━━━━━━━━━━━━━━━━━━━━━━━━━━━━━━━━━━━\u001b[0m \u001b[32m2.5/2.5 MB\u001b[0m \u001b[31m47.2 MB/s\u001b[0m eta \u001b[36m0:00:00\u001b[0m\r\n",
      "\u001b[2K   \u001b[90m━━━━━━━━━━━━━━━━━━━━━━━━━━━━━━━━━━━━━━━━\u001b[0m \u001b[32m5.9/5.9 MB\u001b[0m \u001b[31m103.0 MB/s\u001b[0m eta \u001b[36m0:00:00\u001b[0m\r\n",
      "\u001b[2K   \u001b[90m━━━━━━━━━━━━━━━━━━━━━━━━━━━━━━━━━━━━━━━━\u001b[0m \u001b[32m319.7/319.7 kB\u001b[0m \u001b[31m24.7 MB/s\u001b[0m eta \u001b[36m0:00:00\u001b[0m\r\n",
      "\u001b[?25h\u001b[31mERROR: pip's dependency resolver does not currently take into account all the packages that are installed. This behaviour is the source of the following dependency conflicts.\r\n",
      "google-cloud-translate 3.12.1 requires protobuf!=3.20.0,!=3.20.1,!=4.21.0,!=4.21.1,!=4.21.2,!=4.21.3,!=4.21.4,!=4.21.5,<5.0.0dev,>=3.19.5, but you have protobuf 5.29.4 which is incompatible.\r\n",
      "google-api-core 1.34.1 requires protobuf!=3.20.0,!=3.20.1,!=4.21.0,!=4.21.1,!=4.21.2,!=4.21.3,!=4.21.4,!=4.21.5,<4.0.0dev,>=3.19.5, but you have protobuf 5.29.4 which is incompatible.\r\n",
      "google-spark-connect 0.5.2 requires google-api-core>=2.19.1, but you have google-api-core 1.34.1 which is incompatible.\r\n",
      "pandas-gbq 0.26.1 requires google-api-core<3.0.0dev,>=2.10.2, but you have google-api-core 1.34.1 which is incompatible.\r\n",
      "bigframes 1.36.0 requires rich<14,>=12.4.4, but you have rich 14.0.0 which is incompatible.\r\n",
      "google-cloud-bigtable 2.28.1 requires google-api-core[grpc]<3.0.0dev,>=2.16.0, but you have google-api-core 1.34.1 which is incompatible.\u001b[0m\u001b[31m\r\n",
      "\u001b[2K   \u001b[90m━━━━━━━━━━━━━━━━━━━━━━━━━━━━━━━━━━━━━━━━\u001b[0m \u001b[32m42.3/42.3 kB\u001b[0m \u001b[31m3.1 MB/s\u001b[0m eta \u001b[36m0:00:00\u001b[0m\r\n",
      "\u001b[2K   \u001b[90m━━━━━━━━━━━━━━━━━━━━━━━━━━━━━━━━━━━━━━━━\u001b[0m \u001b[32m259.2/259.2 kB\u001b[0m \u001b[31m10.4 MB/s\u001b[0m eta \u001b[36m0:00:00\u001b[0m\r\n",
      "\u001b[2K   \u001b[90m━━━━━━━━━━━━━━━━━━━━━━━━━━━━━━━━━━━━━━━━\u001b[0m \u001b[32m2.5/2.5 MB\u001b[0m \u001b[31m47.0 MB/s\u001b[0m eta \u001b[36m0:00:00\u001b[0m\r\n",
      "\u001b[2K   \u001b[90m━━━━━━━━━━━━━━━━━━━━━━━━━━━━━━━━━━━━━━━━\u001b[0m \u001b[32m3.3/3.3 MB\u001b[0m \u001b[31m84.7 MB/s\u001b[0m eta \u001b[36m0:00:00\u001b[0m\r\n",
      "\u001b[?25h"
     ]
    }
   ],
   "source": [
    "!pip uninstall -qqy pylibraft-cu12\n",
    "!pip uninstall -qqy jupyterlab  # Remove unused packages from Kaggle's base image that conflict\n",
    "!pip install -qqU langchain-core langchain-text-splitters langchain \n",
    "!pip install -qqU transformers sentence-transformers pypdf langchain\n",
    "!pip install -qqU qdrant-client\n",
    "!pip install -qqU \"langchain[cohere]\"\n",
    "!pip install -qqU langchain-community\n",
    "!pip install -qqU \"langchain-qdrant\""
   ]
  },
  {
   "cell_type": "code",
   "execution_count": 3,
   "id": "42ec9b72",
   "metadata": {
    "execution": {
     "iopub.execute_input": "2025-04-12T20:37:00.034679Z",
     "iopub.status.busy": "2025-04-12T20:37:00.034404Z",
     "iopub.status.idle": "2025-04-12T20:37:00.300652Z",
     "shell.execute_reply": "2025-04-12T20:37:00.300086Z"
    },
    "papermill": {
     "duration": 0.291606,
     "end_time": "2025-04-12T20:37:00.301895",
     "exception": false,
     "start_time": "2025-04-12T20:37:00.010289",
     "status": "completed"
    },
    "tags": []
   },
   "outputs": [],
   "source": [
    "from kaggle_secrets import UserSecretsClient\n",
    "\n",
    "CO_API_KEY = UserSecretsClient().get_secret(\"COHERE_API_KEY\")\n",
    "QDRANT_API_KEY = UserSecretsClient().get_secret(\"QDRANT_CLOUD_API_KEY\")\n",
    "QDRANT_CLOUD_HOST = UserSecretsClient().get_secret(\"QDRANT_CLOUD_HOST\")"
   ]
  },
  {
   "cell_type": "code",
   "execution_count": 4,
   "id": "e91a4d10",
   "metadata": {
    "execution": {
     "iopub.execute_input": "2025-04-12T20:37:00.348744Z",
     "iopub.status.busy": "2025-04-12T20:37:00.348500Z",
     "iopub.status.idle": "2025-04-12T20:37:03.239377Z",
     "shell.execute_reply": "2025-04-12T20:37:03.238436Z"
    },
    "papermill": {
     "duration": 2.915957,
     "end_time": "2025-04-12T20:37:03.240966",
     "exception": false,
     "start_time": "2025-04-12T20:37:00.325009",
     "status": "completed"
    },
    "tags": []
   },
   "outputs": [],
   "source": [
    "from langchain.chat_models import init_chat_model\n",
    "model = init_chat_model(\"command-r-plus\", \n",
    "                        model_provider=\"cohere\",\n",
    "                        cohere_api_key=CO_API_KEY)"
   ]
  },
  {
   "cell_type": "markdown",
   "id": "45e20290",
   "metadata": {
    "papermill": {
     "duration": 0.025731,
     "end_time": "2025-04-12T20:37:03.293486",
     "exception": false,
     "start_time": "2025-04-12T20:37:03.267755",
     "status": "completed"
    },
    "tags": []
   },
   "source": [
    "# Define loader, text splitters \n",
    "The next step is to get the loader and the text spliters so that we can load\n",
    "and split the text document to get into a array of Documents"
   ]
  },
  {
   "cell_type": "code",
   "execution_count": 5,
   "id": "307e27e2",
   "metadata": {
    "execution": {
     "iopub.execute_input": "2025-04-12T20:37:03.390523Z",
     "iopub.status.busy": "2025-04-12T20:37:03.390104Z",
     "iopub.status.idle": "2025-04-12T20:37:03.402949Z",
     "shell.execute_reply": "2025-04-12T20:37:03.402331Z"
    },
    "papermill": {
     "duration": 0.03905,
     "end_time": "2025-04-12T20:37:03.404089",
     "exception": false,
     "start_time": "2025-04-12T20:37:03.365039",
     "status": "completed"
    },
    "tags": []
   },
   "outputs": [],
   "source": [
    "from langchain.document_loaders import PyPDFLoader\n",
    "from langchain_community.document_loaders.directory import DirectoryLoader\n",
    "from langchain_text_splitters import RecursiveCharacterTextSplitter\n",
    "from langchain_core.documents import Document"
   ]
  },
  {
   "cell_type": "markdown",
   "id": "78401ff0",
   "metadata": {
    "papermill": {
     "duration": 0.023328,
     "end_time": "2025-04-12T20:37:03.451364",
     "exception": false,
     "start_time": "2025-04-12T20:37:03.428036",
     "status": "completed"
    },
    "tags": []
   },
   "source": [
    "The code below loads and splits PDF files into manageable chunks using the\n",
    "DirectoryLoader and RecursiveCharacterTextSplitter classes from the PyMuPDF library.\n",
    "\n",
    "First, a DirectoryLoader object named `loader` is created with the following\n",
    "parameters:\n",
    "- `path=\"..\"`: The path to the directory containing the PDF files.\n",
    "- `glob=\"**/*.pdf\"`: A glob pattern specifying that only PDF files should be loaded.\n",
    "- `recursive=True`: A flag indicating that the search for PDF files should be\n",
    "performed recursively within subdirectories.\n",
    "- `show_progress=True`: A flag indicating whether a progress bar should be displayed\n",
    "during file loading.\n",
    "\n",
    "Next, a RecursiveCharacterTextSplitter object named `text_splitter` is created with\n",
    "the following parameters:\n",
    "- `chunk_size=50`: The maximum number of characters to include in each text chunk.\n",
    "- `chunk_overlap=10`: The number of characters that overlap between consecutive\n",
    "chunks.\n",
    "\n",
    "Finally, the code assigns the result of calling the `load_and_split()` method on the\n",
    "`loader` object to a variable named `docs`. This method loads all PDF files from the\n",
    "specified directory and its subdirectories, splits each loaded file into text chunks\n",
    "using the `text_splitter`, and returns a list of Document objects representing the\n",
    "split PDF files."
   ]
  },
  {
   "cell_type": "code",
   "execution_count": 6,
   "id": "838b40cf",
   "metadata": {
    "execution": {
     "iopub.execute_input": "2025-04-12T20:37:03.499282Z",
     "iopub.status.busy": "2025-04-12T20:37:03.499032Z",
     "iopub.status.idle": "2025-04-12T20:37:03.824714Z",
     "shell.execute_reply": "2025-04-12T20:37:03.824170Z"
    },
    "papermill": {
     "duration": 0.351088,
     "end_time": "2025-04-12T20:37:03.826083",
     "exception": false,
     "start_time": "2025-04-12T20:37:03.474995",
     "status": "completed"
    },
    "tags": []
   },
   "outputs": [],
   "source": [
    "from langchain_community.document_loaders import PyPDFDirectoryLoader\n",
    "loader = PyPDFDirectoryLoader(path=\"..\", glob=\"**/*.pdf\", \n",
    "                         recursive=True, )\n",
    "text_splitter = RecursiveCharacterTextSplitter(chunk_size=50, chunk_overlap=10)\n",
    "docs: Document = loader.load_and_split()"
   ]
  },
  {
   "cell_type": "markdown",
   "id": "224eab29",
   "metadata": {
    "papermill": {
     "duration": 0.023069,
     "end_time": "2025-04-12T20:37:03.873089",
     "exception": false,
     "start_time": "2025-04-12T20:37:03.850020",
     "status": "completed"
    },
    "tags": []
   },
   "source": [
    "# Vector Store\n",
    "\n",
    "At this point, we have to install qdrant for the vector store and the langchain libraries which facilitate the interaction with it."
   ]
  },
  {
   "cell_type": "code",
   "execution_count": 7,
   "id": "ced1d4b5",
   "metadata": {
    "execution": {
     "iopub.execute_input": "2025-04-12T20:37:03.920385Z",
     "iopub.status.busy": "2025-04-12T20:37:03.919972Z",
     "iopub.status.idle": "2025-04-12T20:37:04.025496Z",
     "shell.execute_reply": "2025-04-12T20:37:04.024907Z"
    },
    "papermill": {
     "duration": 0.130792,
     "end_time": "2025-04-12T20:37:04.026583",
     "exception": false,
     "start_time": "2025-04-12T20:37:03.895791",
     "status": "completed"
    },
    "tags": []
   },
   "outputs": [],
   "source": [
    "from langchain_cohere.embeddings import CohereEmbeddings\n",
    "from langchain_cohere.chat_models import ChatCohere\n",
    "\n",
    "embeddings = CohereEmbeddings(model=\"embed-english-light-v3.0\", cohere_api_key=CO_API_KEY)\n"
   ]
  },
  {
   "cell_type": "code",
   "execution_count": 8,
   "id": "1c35dc9e",
   "metadata": {
    "execution": {
     "iopub.execute_input": "2025-04-12T20:37:04.073412Z",
     "iopub.status.busy": "2025-04-12T20:37:04.073187Z",
     "iopub.status.idle": "2025-04-12T20:37:06.148614Z",
     "shell.execute_reply": "2025-04-12T20:37:06.147852Z"
    },
    "papermill": {
     "duration": 2.100406,
     "end_time": "2025-04-12T20:37:06.150113",
     "exception": false,
     "start_time": "2025-04-12T20:37:04.049707",
     "status": "completed"
    },
    "tags": []
   },
   "outputs": [],
   "source": [
    "from langchain_qdrant import Qdrant, QdrantVectorStore\n",
    "from qdrant_client import QdrantClient\n",
    "from qdrant_client.http.models import Distance, VectorParams\n",
    "\n",
    "assert(QDRANT_CLOUD_HOST != None)\n",
    "\n",
    "\n",
    "vector_store = QdrantVectorStore.from_documents(\n",
    "    docs,\n",
    "    embeddings,\n",
    "    url=QDRANT_CLOUD_HOST,\n",
    "    api_key=QDRANT_API_KEY,\n",
    "    collection_name=\"support_documents\",\n",
    ")\n",
    "\n",
    "retriever = vector_store.as_retriever()"
   ]
  },
  {
   "cell_type": "markdown",
   "id": "b9478322",
   "metadata": {
    "papermill": {
     "duration": 0.023257,
     "end_time": "2025-04-12T20:37:06.197250",
     "exception": false,
     "start_time": "2025-04-12T20:37:06.173993",
     "status": "completed"
    },
    "tags": []
   },
   "source": [
    "## Storing Documents into the Vector Store\n",
    "\n",
    "At this point we have the vector store defined and have the retriever ready and \n",
    "the next step is to generate the ids for the documents and load the documents into \n",
    "the vector store. The next step accomplishes that. "
   ]
  },
  {
   "cell_type": "code",
   "execution_count": 9,
   "id": "75f9ac74",
   "metadata": {
    "execution": {
     "iopub.execute_input": "2025-04-12T20:37:06.245114Z",
     "iopub.status.busy": "2025-04-12T20:37:06.244892Z",
     "iopub.status.idle": "2025-04-12T20:37:06.453410Z",
     "shell.execute_reply": "2025-04-12T20:37:06.452678Z"
    },
    "papermill": {
     "duration": 0.234023,
     "end_time": "2025-04-12T20:37:06.454713",
     "exception": false,
     "start_time": "2025-04-12T20:37:06.220690",
     "status": "completed"
    },
    "tags": []
   },
   "outputs": [],
   "source": [
    "from uuid import uuid4\n",
    "uuids = [str(uuid4()) for _ in range(len(docs))]\n",
    "doc_ids = vector_store.add_documents(ids = uuids, documents = docs)"
   ]
  },
  {
   "cell_type": "code",
   "execution_count": 10,
   "id": "6b0bddf5",
   "metadata": {
    "execution": {
     "iopub.execute_input": "2025-04-12T20:37:06.502309Z",
     "iopub.status.busy": "2025-04-12T20:37:06.502103Z",
     "iopub.status.idle": "2025-04-12T20:37:06.507143Z",
     "shell.execute_reply": "2025-04-12T20:37:06.506431Z"
    },
    "papermill": {
     "duration": 0.030429,
     "end_time": "2025-04-12T20:37:06.508244",
     "exception": false,
     "start_time": "2025-04-12T20:37:06.477815",
     "status": "completed"
    },
    "tags": []
   },
   "outputs": [
    {
     "data": {
      "text/plain": [
       "['b2206c93-3c14-44a7-9c7a-6506dc03d198',\n",
       " '7e3aad43-21e7-479c-8aaf-a328ec37e2ed',\n",
       " 'b343f06c-75d8-4868-949e-4e97d5de246d']"
      ]
     },
     "execution_count": 10,
     "metadata": {},
     "output_type": "execute_result"
    }
   ],
   "source": [
    "# The following will give us the doc_ids which are loaded\n",
    "doc_ids"
   ]
  },
  {
   "cell_type": "code",
   "execution_count": 11,
   "id": "b6659c39",
   "metadata": {
    "execution": {
     "iopub.execute_input": "2025-04-12T20:37:06.555530Z",
     "iopub.status.busy": "2025-04-12T20:37:06.555325Z",
     "iopub.status.idle": "2025-04-12T20:37:06.718414Z",
     "shell.execute_reply": "2025-04-12T20:37:06.717736Z"
    },
    "papermill": {
     "duration": 0.188052,
     "end_time": "2025-04-12T20:37:06.719708",
     "exception": false,
     "start_time": "2025-04-12T20:37:06.531656",
     "status": "completed"
    },
    "tags": []
   },
   "outputs": [],
   "source": [
    "# Test the similarity search \n",
    "documents = vector_store.similarity_search(\"Why is my mouse not working\", k=2, )"
   ]
  },
  {
   "cell_type": "markdown",
   "id": "21c50ac2",
   "metadata": {
    "papermill": {
     "duration": 0.023526,
     "end_time": "2025-04-12T20:37:06.766509",
     "exception": false,
     "start_time": "2025-04-12T20:37:06.742983",
     "status": "completed"
    },
    "tags": []
   },
   "source": [
    "# LLM"
   ]
  },
  {
   "cell_type": "code",
   "execution_count": 12,
   "id": "8eb6359b",
   "metadata": {
    "execution": {
     "iopub.execute_input": "2025-04-12T20:37:06.815749Z",
     "iopub.status.busy": "2025-04-12T20:37:06.815456Z",
     "iopub.status.idle": "2025-04-12T20:37:06.924514Z",
     "shell.execute_reply": "2025-04-12T20:37:06.923792Z"
    },
    "papermill": {
     "duration": 0.13552,
     "end_time": "2025-04-12T20:37:06.925930",
     "exception": false,
     "start_time": "2025-04-12T20:37:06.790410",
     "status": "completed"
    },
    "tags": []
   },
   "outputs": [],
   "source": [
    "llm = ChatCohere(model=\"command-r-plus\", cohere_api_key=CO_API_KEY)"
   ]
  },
  {
   "cell_type": "markdown",
   "id": "dd7594f3",
   "metadata": {
    "papermill": {
     "duration": 0.023927,
     "end_time": "2025-04-12T20:37:06.974299",
     "exception": false,
     "start_time": "2025-04-12T20:37:06.950372",
     "status": "completed"
    },
    "tags": []
   },
   "source": [
    "## Few Shot Prompting\n",
    "\n",
    "This demonstrates _few-shot prompting_ by using a retrieval prompt that takes a context and question as input, then retrieves relevant documents to generate an answer.\n",
    "\n",
    "The AI agent iterates through a list of questions, each time retrieving the necessary documents based on the context and the user's question. This allows the AI to learn from only a few examples (the context and related questions), which is characteristic of few-shot prompting."
   ]
  },
  {
   "cell_type": "code",
   "execution_count": 13,
   "id": "dde6e25a",
   "metadata": {
    "execution": {
     "iopub.execute_input": "2025-04-12T20:37:07.025601Z",
     "iopub.status.busy": "2025-04-12T20:37:07.025182Z",
     "iopub.status.idle": "2025-04-12T20:37:07.029542Z",
     "shell.execute_reply": "2025-04-12T20:37:07.028848Z"
    },
    "papermill": {
     "duration": 0.031351,
     "end_time": "2025-04-12T20:37:07.030884",
     "exception": false,
     "start_time": "2025-04-12T20:37:06.999533",
     "status": "completed"
    },
    "tags": []
   },
   "outputs": [],
   "source": [
    "from langchain_core.prompts import ChatPromptTemplate\n",
    "retrieval_prompt = ChatPromptTemplate.from_template(\n",
    "    \n",
    "    \"\"\"Answer the user's question based on the context provided below:\n",
    "    \n",
    "    Context:\n",
    "    {context}\n",
    "\n",
    "    If you are unable to answer based on the document then say \"I do not have that\n",
    "    information with me.\" else provide step by step, numbered action items to solve \n",
    "    the problem.\n",
    "    \n",
    "    Question: {question}\n",
    "    \n",
    "    Answer:\"\"\"\n",
    ")"
   ]
  },
  {
   "cell_type": "markdown",
   "id": "eddc94f3",
   "metadata": {
    "papermill": {
     "duration": 0.023971,
     "end_time": "2025-04-12T20:37:07.079134",
     "exception": false,
     "start_time": "2025-04-12T20:37:07.055163",
     "status": "completed"
    },
    "tags": []
   },
   "source": [
    "# Constructing the Agent Graph"
   ]
  },
  {
   "cell_type": "code",
   "execution_count": 14,
   "id": "b1ac99d5",
   "metadata": {
    "execution": {
     "iopub.execute_input": "2025-04-12T20:37:07.126696Z",
     "iopub.status.busy": "2025-04-12T20:37:07.126449Z",
     "iopub.status.idle": "2025-04-12T20:37:11.279491Z",
     "shell.execute_reply": "2025-04-12T20:37:11.278690Z"
    },
    "papermill": {
     "duration": 4.178531,
     "end_time": "2025-04-12T20:37:11.280888",
     "exception": false,
     "start_time": "2025-04-12T20:37:07.102357",
     "status": "completed"
    },
    "tags": []
   },
   "outputs": [
    {
     "name": "stdout",
     "output_type": "stream",
     "text": [
      "\u001b[2K     \u001b[90m━━━━━━━━━━━━━━━━━━━━━━━━━━━━━━━━━━━━━━━━\u001b[0m \u001b[32m43.5/43.5 kB\u001b[0m \u001b[31m1.6 MB/s\u001b[0m eta \u001b[36m0:00:00\u001b[0m\r\n",
      "\u001b[2K   \u001b[90m━━━━━━━━━━━━━━━━━━━━━━━━━━━━━━━━━━━━━━━━\u001b[0m \u001b[32m144.7/144.7 kB\u001b[0m \u001b[31m6.0 MB/s\u001b[0m eta \u001b[36m0:00:00\u001b[0m\r\n",
      "\u001b[2K   \u001b[90m━━━━━━━━━━━━━━━━━━━━━━━━━━━━━━━━━━━━━━━━\u001b[0m \u001b[32m42.0/42.0 kB\u001b[0m \u001b[31m3.2 MB/s\u001b[0m eta \u001b[36m0:00:00\u001b[0m\r\n",
      "\u001b[2K   \u001b[90m━━━━━━━━━━━━━━━━━━━━━━━━━━━━━━━━━━━━━━━━\u001b[0m \u001b[32m47.2/47.2 kB\u001b[0m \u001b[31m2.7 MB/s\u001b[0m eta \u001b[36m0:00:00\u001b[0m\r\n",
      "\u001b[2K   \u001b[90m━━━━━━━━━━━━━━━━━━━━━━━━━━━━━━━━━━━━━━━━\u001b[0m \u001b[32m223.6/223.6 kB\u001b[0m \u001b[31m11.9 MB/s\u001b[0m eta \u001b[36m0:00:00\u001b[0m\r\n",
      "\u001b[?25h"
     ]
    }
   ],
   "source": [
    "# Installing LangGraph Libraries\n",
    "\n",
    "!pip  install -Uqq langgraph"
   ]
  },
  {
   "cell_type": "markdown",
   "id": "94deab2d",
   "metadata": {
    "papermill": {
     "duration": 0.024826,
     "end_time": "2025-04-12T20:37:11.330362",
     "exception": false,
     "start_time": "2025-04-12T20:37:11.305536",
     "status": "completed"
    },
    "tags": []
   },
   "source": [
    "## Testing the Retriever\n",
    "\n",
    "### Creating the State Dictionary"
   ]
  },
  {
   "cell_type": "code",
   "execution_count": 15,
   "id": "c942a3b7",
   "metadata": {
    "execution": {
     "iopub.execute_input": "2025-04-12T20:37:11.378415Z",
     "iopub.status.busy": "2025-04-12T20:37:11.378185Z",
     "iopub.status.idle": "2025-04-12T20:37:11.431079Z",
     "shell.execute_reply": "2025-04-12T20:37:11.430366Z"
    },
    "papermill": {
     "duration": 0.078115,
     "end_time": "2025-04-12T20:37:11.432234",
     "exception": false,
     "start_time": "2025-04-12T20:37:11.354119",
     "status": "completed"
    },
    "tags": []
   },
   "outputs": [],
   "source": [
    "# Let's do the agent now\n",
    "from typing import TypedDict, Dict\n",
    "class AgentState(TypedDict):\n",
    "    keys: Dict[str, any]\n",
    "\n",
    "# Here we import the Objects which are necessary to construct the graph\n",
    "\n",
    "from langgraph.graph import StateGraph, END"
   ]
  },
  {
   "cell_type": "code",
   "execution_count": 16,
   "id": "fae7cd8d",
   "metadata": {
    "execution": {
     "iopub.execute_input": "2025-04-12T20:37:11.480724Z",
     "iopub.status.busy": "2025-04-12T20:37:11.480461Z",
     "iopub.status.idle": "2025-04-12T20:37:11.652743Z",
     "shell.execute_reply": "2025-04-12T20:37:11.651970Z"
    },
    "papermill": {
     "duration": 0.197939,
     "end_time": "2025-04-12T20:37:11.653853",
     "exception": false,
     "start_time": "2025-04-12T20:37:11.455914",
     "status": "completed"
    },
    "tags": []
   },
   "outputs": [
    {
     "name": "stderr",
     "output_type": "stream",
     "text": [
      "/tmp/ipykernel_20/2006024849.py:6: LangChainDeprecationWarning: The method `BaseRetriever.get_relevant_documents` was deprecated in langchain-core 0.1.46 and will be removed in 1.0. Use :meth:`~invoke` instead.\n",
      "  retrieved_docs = retriever.get_relevant_documents(question)\n"
     ]
    },
    {
     "data": {
      "text/plain": [
       "4"
      ]
     },
     "execution_count": 16,
     "metadata": {},
     "output_type": "execute_result"
    }
   ],
   "source": [
    "state:AgentState = {\"keys\":{}}\n",
    "user_input = \"My mouse is not working, what might be the problem?\"\n",
    "state = {\"keys\": {\"question\": user_input}}\n",
    "retriever = vector_store.as_retriever(embedding=embeddings, k = 2, )\n",
    "question = state[\"keys\"][\"question\"]\n",
    "retrieved_docs = retriever.get_relevant_documents(question)\n",
    "len(retrieved_docs)"
   ]
  },
  {
   "cell_type": "markdown",
   "id": "15ff27bc",
   "metadata": {
    "papermill": {
     "duration": 0.024076,
     "end_time": "2025-04-12T20:37:11.702013",
     "exception": false,
     "start_time": "2025-04-12T20:37:11.677937",
     "status": "completed"
    },
    "tags": []
   },
   "source": [
    "1. The `retrieve_documents` function takes a state as input, retrieves relevant\n",
    "documents based on the user's question, and returns them in a new state.\n",
    "2. The `generate_response` function takes a state as input, generates a final response\n",
    "using the Cohere model and retrieved context, and returns it in a new state.\n",
    "3. The workflow is created with nodes for retrieving documents and generating a\n",
    "response, as well as edges connecting these nodes.\n",
    "4. The entry point of the workflow is set to the retrieve node.\n",
    "5. Finally, the workflow is compiled into an agent."
   ]
  },
  {
   "cell_type": "code",
   "execution_count": 17,
   "id": "02370cfc",
   "metadata": {
    "execution": {
     "iopub.execute_input": "2025-04-12T20:37:11.751219Z",
     "iopub.status.busy": "2025-04-12T20:37:11.751015Z",
     "iopub.status.idle": "2025-04-12T20:37:11.754314Z",
     "shell.execute_reply": "2025-04-12T20:37:11.753730Z"
    },
    "papermill": {
     "duration": 0.02898,
     "end_time": "2025-04-12T20:37:11.755400",
     "exception": false,
     "start_time": "2025-04-12T20:37:11.726420",
     "status": "completed"
    },
    "tags": []
   },
   "outputs": [],
   "source": [
    "context = \",\".join([doc.page_content for doc in retrieved_docs])\n"
   ]
  },
  {
   "cell_type": "markdown",
   "id": "3088e101",
   "metadata": {
    "papermill": {
     "duration": 0.024969,
     "end_time": "2025-04-12T20:37:11.805400",
     "exception": false,
     "start_time": "2025-04-12T20:37:11.780431",
     "status": "completed"
    },
    "tags": []
   },
   "source": [
    "Let's define a state graph-based workflow for an AI agent, which\n",
    "includes three main components: `retrieve_documents`, `generate_response`, and the\n",
    "overall workflow structure.\n",
    "\n",
    "1. The `retrieve_documents` function takes in the current `state` of the agent as its\n",
    "parameter. It retrieves relevant documents based on the user's question using the\n",
    "`embeddings` object and returns an updated state with the retrieved documents' context\n",
    "and the original question.\n",
    "2. The `generate_response` function also accepts the current `state`. It generates a\n",
    "final response using the Cohere model based on the previous 'context' and 'question'\n",
    "stored in the state. The response is then added to the state under the key 'response'.\n",
    "3. The overall workflow, named as per the code block, consists of adding nodes for\n",
    "each function (`\"retrieve\"` corresponding to `retrieve_documents` and `\"generate\"`\n",
    "corresponding to `generate_response`) and connecting them using edges.\n",
    "4. Lastly, an instance of the AI agent is created by compiling the workflow.\n",
    "\n",
    "The workflow structure ensures that the retrieval process occurs first followed by a\n",
    "response generation to provide context-specific answers based on the user's question."
   ]
  },
  {
   "cell_type": "code",
   "execution_count": 18,
   "id": "51ee796c",
   "metadata": {
    "execution": {
     "iopub.execute_input": "2025-04-12T20:37:11.854933Z",
     "iopub.status.busy": "2025-04-12T20:37:11.854704Z",
     "iopub.status.idle": "2025-04-12T20:37:11.863433Z",
     "shell.execute_reply": "2025-04-12T20:37:11.862916Z"
    },
    "papermill": {
     "duration": 0.034986,
     "end_time": "2025-04-12T20:37:11.864583",
     "exception": false,
     "start_time": "2025-04-12T20:37:11.829597",
     "status": "completed"
    },
    "tags": []
   },
   "outputs": [],
   "source": [
    "workflow = StateGraph(AgentState)\n",
    "\n",
    "def retrieve_documents(state) -> AgentState:\n",
    "    \"\"\"Retrieves relevant documents based on the user's question.\"\"\"\n",
    "    question = state[\"keys\"][\"question\"]\n",
    "    if question is None:\n",
    "        raise KeyError(f\"No question in state {question}\")\n",
    "    retriever = vector_store.as_retriever(embedding=embeddings, k = 2, )\n",
    "    retrieved_docs = retriever.get_relevant_documents(question)\n",
    "    context =  {\"context\": \"\\n\\n\".join([doc.page_content for doc in retrieved_docs])}\n",
    "    return {\"keys\":{\"question\":question, \"context\":context,}}\n",
    "\n",
    "def generate_response(state) -> AgentState:\n",
    "    \"\"\"Generates the final response using the Cohere model and retrieved context.\"\"\"\n",
    "    context = state[\"keys\"][\"context\"]\n",
    "    question = state[\"keys\"][\"question\"]\n",
    "    # Use the retrieval_prompt here\n",
    "    response = llm.invoke(retrieval_prompt.format_messages(context=context, question=question))\n",
    "    state[\"keys\"][\"response\"] = response.content\n",
    "    return state\n",
    "\n",
    "# Adding Nodes\n",
    "workflow.add_node(\"retrieve\", retrieve_documents)\n",
    "workflow.add_node(\"generate\", generate_response)\n",
    "\n",
    "# Adding Edges\n",
    "workflow.add_edge(\"retrieve\", \"generate\")\n",
    "workflow.add_edge(\"generate\", END)\n",
    "\n",
    "# Setting the entry point\n",
    "workflow.set_entry_point(\"retrieve\")\n",
    "\n",
    "# Compiling the workflow\n",
    "agent = workflow.compile()\n"
   ]
  },
  {
   "cell_type": "markdown",
   "id": "70a22833",
   "metadata": {
    "papermill": {
     "duration": 0.023661,
     "end_time": "2025-04-12T20:37:11.911910",
     "exception": false,
     "start_time": "2025-04-12T20:37:11.888249",
     "status": "completed"
    },
    "tags": []
   },
   "source": [
    "## The Agent State\n",
    "\n",
    "The code below uses a dictionary called `AgentState` to store and manage\n",
    "information about an AI agent's state. In this case, the state includes two keys:\n",
    "'question' and 'context', which are initially empty.\n",
    "\n",
    "Next, a user provides input by assigning a string value `\"My mouse is not working,\n",
    "what might be the problem?\"` to a variable named `user_input`.\n",
    "\n",
    "Then, the code updates the `state` dictionary with the provided user input under the\n",
    "'question' key.\n",
    "\n",
    "The code then calls an `invoke()` function on the AI agent and passes the updated `state` as its argument.\n",
    "\n",
    "Finally, it prints out the response generated by the AI agent based on the given\n",
    "context and question using the key `'response'`."
   ]
  },
  {
   "cell_type": "code",
   "execution_count": 19,
   "id": "ec8754c4",
   "metadata": {
    "execution": {
     "iopub.execute_input": "2025-04-12T20:37:11.960413Z",
     "iopub.status.busy": "2025-04-12T20:37:11.960214Z",
     "iopub.status.idle": "2025-04-12T20:37:17.381899Z",
     "shell.execute_reply": "2025-04-12T20:37:17.381125Z"
    },
    "papermill": {
     "duration": 5.447768,
     "end_time": "2025-04-12T20:37:17.383278",
     "exception": false,
     "start_time": "2025-04-12T20:37:11.935510",
     "status": "completed"
    },
    "tags": []
   },
   "outputs": [],
   "source": [
    "state:AgentState = {\"keys\":{\n",
    "    \"question\":\"\",\n",
    "    \"context\":\"\",\n",
    "}}\n",
    "\n",
    "user_input = \"My mouse is not working, what might be the problem?\"\n",
    "state = {\"keys\": {\"question\": user_input}}\n",
    "state = agent.invoke(state)\n"
   ]
  },
  {
   "cell_type": "markdown",
   "id": "4aefbe90",
   "metadata": {
    "papermill": {
     "duration": 0.023739,
     "end_time": "2025-04-12T20:37:17.431110",
     "exception": false,
     "start_time": "2025-04-12T20:37:17.407371",
     "status": "completed"
    },
    "tags": []
   },
   "source": [
    "## Response from the Agent\n",
    "\n",
    "The code snippet below gives you the response from the AI Agent. "
   ]
  },
  {
   "cell_type": "code",
   "execution_count": 20,
   "id": "21d6d30b",
   "metadata": {
    "execution": {
     "iopub.execute_input": "2025-04-12T20:37:17.478298Z",
     "iopub.status.busy": "2025-04-12T20:37:17.478060Z",
     "iopub.status.idle": "2025-04-12T20:37:17.482189Z",
     "shell.execute_reply": "2025-04-12T20:37:17.481332Z"
    },
    "papermill": {
     "duration": 0.029156,
     "end_time": "2025-04-12T20:37:17.483282",
     "exception": false,
     "start_time": "2025-04-12T20:37:17.454126",
     "status": "completed"
    },
    "tags": []
   },
   "outputs": [
    {
     "name": "stdout",
     "output_type": "stream",
     "text": [
      "I do not have information about mouse issues in the provided context. However, based on the troubleshooting tips, I can suggest the following general steps: \n",
      "\n",
      "1. Restart your computer: This step often resolves temporary software glitches that could be causing the mouse issue. \n",
      "\n",
      "2. Check error messages: Note down any error messages displayed related to your mouse or peripheral devices for further investigation. \n",
      "\n",
      "3. Gather information: Think about when the problem started and any recent changes you made to your system, such as connecting a new peripheral or installing new software. \n",
      "\n",
      "4. Use the operating system's built-in troubleshooters: Both Windows and macOS have built-in tools for diagnosing common issues, including peripheral device problems. \n",
      "\n",
      "5. Check mouse connections: Ensure that your mouse is properly connected to your computer, whether it is wired or wireless. \n",
      "\n",
      "6. Try a different USB port: If your mouse is connected via USB, try plugging it into a different USB port to ensure the issue isn't port-related. \n",
      "\n",
      "7. Try a different mouse: If possible, connect a different mouse to your computer to see if the problem persists. This will help determine if the issue is with the mouse itself or your computer's settings/hardware. \n",
      "\n",
      "8. Update your mouse driver: If none of the above steps work, try updating the driver for your mouse. You can usually find updated drivers on the manufacturer's website. \n",
      "\n",
      "If none of these steps resolve your issue, you may need to contact technical support or seek further assistance. \n",
      "\n",
      "\n"
     ]
    }
   ],
   "source": [
    "\n",
    "print(state[\"keys\"][\"response\"],\"\\n\\n\")"
   ]
  },
  {
   "cell_type": "markdown",
   "id": "0265670e",
   "metadata": {
    "papermill": {
     "duration": 0.023231,
     "end_time": "2025-04-12T20:37:17.529819",
     "exception": false,
     "start_time": "2025-04-12T20:37:17.506588",
     "status": "completed"
    },
    "tags": []
   },
   "source": [
    "## Final Thoughts\n",
    "\n",
    "This implementation can be expanded to support other use cases by simply adding more\n",
    "nodes and edges in the workflow graph or extending `retrieve_documents` and/or\n",
    "`generate_response`.\n",
    "\n",
    "For instance, additional nodes could be created for pre-processing user queries (`\n",
    "preprocess_query`), interpreting retrieved documents (` interpret_documents`), or\n",
    "generating follow-up responses (` generate_followup`). An extended\n",
    "`retrieve_documents` might query multiple document sources simultaneously. Meanwhile,\n",
    "an expanded `generate_response` could generate multiple possible responses and select\n",
    "one at random based on certain criteria.\n",
    "\n",
    "In a nutshell, the workflow structure provides a flexible way to add more complex\n",
    "behavior in steps without changing much of the underlying logic or architecture. This\n",
    "is the strength and promise of state graph-based AI agents: they can be incrementally\n",
    "extended with new features as business needs change."
   ]
  }
 ],
 "metadata": {
  "kaggle": {
   "accelerator": "nvidiaTeslaT4",
   "dataSources": [
    {
     "datasetId": 7093658,
     "sourceId": 11339021,
     "sourceType": "datasetVersion"
    }
   ],
   "isGpuEnabled": true,
   "isInternetEnabled": true,
   "language": "python",
   "sourceType": "notebook"
  },
  "kernelspec": {
   "display_name": "Python 3",
   "language": "python",
   "name": "python3"
  },
  "language_info": {
   "codemirror_mode": {
    "name": "ipython",
    "version": 3
   },
   "file_extension": ".py",
   "mimetype": "text/x-python",
   "name": "python",
   "nbconvert_exporter": "python",
   "pygments_lexer": "ipython3",
   "version": "3.11.11"
  },
  "papermill": {
   "default_parameters": {},
   "duration": 153.830547,
   "end_time": "2025-04-12T20:37:18.370616",
   "environment_variables": {},
   "exception": null,
   "input_path": "__notebook__.ipynb",
   "output_path": "__notebook__.ipynb",
   "parameters": {},
   "start_time": "2025-04-12T20:34:44.540069",
   "version": "2.6.0"
  }
 },
 "nbformat": 4,
 "nbformat_minor": 5
}

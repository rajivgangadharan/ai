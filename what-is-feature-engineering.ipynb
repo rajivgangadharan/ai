{
 "cells": [
  {
   "cell_type": "markdown",
   "id": "bbf12c25",
   "metadata": {
    "papermill": {
     "duration": 0.002611,
     "end_time": "2025-06-18T04:48:26.086503",
     "exception": false,
     "start_time": "2025-06-18T04:48:26.083892",
     "status": "completed"
    },
    "tags": []
   },
   "source": [
    "# Welcome to Feature Engineering! #\n",
    "\n",
    "In this course you'll learn about one of the most important steps on the way to building a great machine learning model: *feature engineering*. You'll learn how to:\n",
    "- determine which features are the most important with *mutual information*\n",
    "- invent new features in several real-world problem domains\n",
    "- encode high-cardinality categoricals with a *target encoding*\n",
    "- create segmentation features with *k-means clustering*\n",
    "- decompose a dataset's variation into features with *principal component analysis*\n",
    "\n",
    "The hands-on exercises build up to a complete **[notebook](http://www.kaggle.com/ryanholbrook/feature-engineering-for-house-prices)** that applies all of these techniques to make a submission to the **[House Prices Getting Started](https://www.kaggle.com/c/house-prices-advanced-regression-techniques)** competition. After completing this course, you'll have several ideas that you can use to further improve your performance.\n",
    "\n",
    "Are you ready? Let's go!"
   ]
  },
  {
   "cell_type": "markdown",
   "id": "90fcd93c",
   "metadata": {
    "papermill": {
     "duration": 0.001546,
     "end_time": "2025-06-18T04:48:26.090271",
     "exception": false,
     "start_time": "2025-06-18T04:48:26.088725",
     "status": "completed"
    },
    "tags": []
   },
   "source": [
    "# The Goal of Feature Engineering #\n",
    "\n",
    "The goal of feature engineering is simply to make your data better suited to the problem at hand.\n",
    "\n",
    "Consider \"apparent temperature\" measures like the heat index and the wind chill. These quantities attempt to measure the *perceived* temperature to humans based on air temperature, humidity, and wind speed, things which we can measure directly. You could think of an apparent temperature as the result of a kind of feature engineering, an attempt to make the observed data more relevant to what we actually care about: how it actually feels outside!\n",
    "\n",
    "You might perform feature engineering to:\n",
    "- improve a model's predictive performance\n",
    "- reduce computational or data needs\n",
    "- improve interpretability of the results\n",
    "\n",
    "# A Guiding Principle of Feature Engineering #\n",
    "\n",
    "For a feature to be useful, it must have a relationship to the target that your model is able to learn. Linear models, for instance, are only able to learn linear relationships. So, when using a linear model, your goal is to transform the features to make their relationship to the target linear.\n",
    "\n",
    "The key idea here is that a transformation you apply to a feature becomes in essence a part of the model itself. Say you were trying to predict the `Price` of square plots of land from the `Length` of one side. Fitting a linear model directly to `Length` gives poor results: the relationship is not linear.\n",
    "\n",
    "<figure style=\"padding: 1em;\">\n",
    "<img src=\"https://storage.googleapis.com/kaggle-media/learn/images/5D1z24N.png\" width=300, alt=\"A scatterplot of Length along the x-axis and Price along the y-axis, the points increasing in a curve, with a poorly-fitting line superimposed.\">\n",
    "<figcaption style=\"textalign: center; font-style: italic\"><center>A linear model fits poorly with only Length as feature.\n",
    "</center></figcaption>\n",
    "</figure>\n",
    "\n",
    "If we square the `Length` feature to get `'Area'`, however, we create a linear relationship. Adding `Area` to the feature set means this linear model can now fit a parabola. Squaring a feature, in other words, gave the linear model the ability to fit squared features.\n",
    "\n",
    "<figure style=\"padding: 1em;\">\n",
    "<img src=\"https://storage.googleapis.com/kaggle-media/learn/images/BLRsYOK.png\" width=600, alt=\"Left: Area now on the x-axis. The points increasing in a linear shape, with a well-fitting line superimposed. Right: Length on the x-axis now. The points increase in a curve as before, and a well-fitting curve is superimposed.\">\n",
    "<figcaption style=\"textalign: center; font-style: italic\"><center><strong>Left:</strong> The fit to Area is much better. <strong>Right:</strong> Which makes the fit to Length better as well.\n",
    "</center></figcaption>\n",
    "</figure>\n",
    "\n",
    "This should show you why there can be such a high return on time invested in feature engineering. Whatever relationships your model can't learn, you can provide yourself through transformations. As you develop your feature set, think about what information your model could use to achieve its best performance."
   ]
  },
  {
   "cell_type": "markdown",
   "id": "571e1c42",
   "metadata": {
    "papermill": {
     "duration": 0.001652,
     "end_time": "2025-06-18T04:48:26.093677",
     "exception": false,
     "start_time": "2025-06-18T04:48:26.092025",
     "status": "completed"
    },
    "tags": []
   },
   "source": [
    "# Example - Concrete Formulations #\n",
    "\n",
    "To illustrate these ideas we'll see how adding a few synthetic features to a dataset can improve the predictive performance of a random forest model.\n",
    "\n",
    "The [*Concrete*](https://www.kaggle.com/sinamhd9/concrete-comprehensive-strength) dataset contains a variety of concrete formulations and the resulting product's *compressive strength*, which is a measure of how much load that kind of concrete can bear. The task for this dataset is to predict a concrete's compressive strength given its formulation.\n"
   ]
  },
  {
   "cell_type": "code",
   "execution_count": 1,
   "id": "880d6fd5",
   "metadata": {
    "execution": {
     "iopub.execute_input": "2025-06-18T04:48:26.099377Z",
     "iopub.status.busy": "2025-06-18T04:48:26.098490Z",
     "iopub.status.idle": "2025-06-18T04:48:29.508224Z",
     "shell.execute_reply": "2025-06-18T04:48:29.507345Z"
    },
    "papermill": {
     "duration": 3.413815,
     "end_time": "2025-06-18T04:48:29.509494",
     "exception": false,
     "start_time": "2025-06-18T04:48:26.095679",
     "status": "completed"
    },
    "tags": []
   },
   "outputs": [
    {
     "data": {
      "text/html": [
       "<div>\n",
       "<style scoped>\n",
       "    .dataframe tbody tr th:only-of-type {\n",
       "        vertical-align: middle;\n",
       "    }\n",
       "\n",
       "    .dataframe tbody tr th {\n",
       "        vertical-align: top;\n",
       "    }\n",
       "\n",
       "    .dataframe thead th {\n",
       "        text-align: right;\n",
       "    }\n",
       "</style>\n",
       "<table border=\"1\" class=\"dataframe\">\n",
       "  <thead>\n",
       "    <tr style=\"text-align: right;\">\n",
       "      <th></th>\n",
       "      <th>Cement</th>\n",
       "      <th>BlastFurnaceSlag</th>\n",
       "      <th>FlyAsh</th>\n",
       "      <th>Water</th>\n",
       "      <th>Superplasticizer</th>\n",
       "      <th>CoarseAggregate</th>\n",
       "      <th>FineAggregate</th>\n",
       "      <th>Age</th>\n",
       "      <th>CompressiveStrength</th>\n",
       "    </tr>\n",
       "  </thead>\n",
       "  <tbody>\n",
       "    <tr>\n",
       "      <th>0</th>\n",
       "      <td>540.0</td>\n",
       "      <td>0.0</td>\n",
       "      <td>0.0</td>\n",
       "      <td>162.0</td>\n",
       "      <td>2.5</td>\n",
       "      <td>1040.0</td>\n",
       "      <td>676.0</td>\n",
       "      <td>28</td>\n",
       "      <td>79.99</td>\n",
       "    </tr>\n",
       "    <tr>\n",
       "      <th>1</th>\n",
       "      <td>540.0</td>\n",
       "      <td>0.0</td>\n",
       "      <td>0.0</td>\n",
       "      <td>162.0</td>\n",
       "      <td>2.5</td>\n",
       "      <td>1055.0</td>\n",
       "      <td>676.0</td>\n",
       "      <td>28</td>\n",
       "      <td>61.89</td>\n",
       "    </tr>\n",
       "    <tr>\n",
       "      <th>2</th>\n",
       "      <td>332.5</td>\n",
       "      <td>142.5</td>\n",
       "      <td>0.0</td>\n",
       "      <td>228.0</td>\n",
       "      <td>0.0</td>\n",
       "      <td>932.0</td>\n",
       "      <td>594.0</td>\n",
       "      <td>270</td>\n",
       "      <td>40.27</td>\n",
       "    </tr>\n",
       "    <tr>\n",
       "      <th>3</th>\n",
       "      <td>332.5</td>\n",
       "      <td>142.5</td>\n",
       "      <td>0.0</td>\n",
       "      <td>228.0</td>\n",
       "      <td>0.0</td>\n",
       "      <td>932.0</td>\n",
       "      <td>594.0</td>\n",
       "      <td>365</td>\n",
       "      <td>41.05</td>\n",
       "    </tr>\n",
       "    <tr>\n",
       "      <th>4</th>\n",
       "      <td>198.6</td>\n",
       "      <td>132.4</td>\n",
       "      <td>0.0</td>\n",
       "      <td>192.0</td>\n",
       "      <td>0.0</td>\n",
       "      <td>978.4</td>\n",
       "      <td>825.5</td>\n",
       "      <td>360</td>\n",
       "      <td>44.30</td>\n",
       "    </tr>\n",
       "  </tbody>\n",
       "</table>\n",
       "</div>"
      ],
      "text/plain": [
       "   Cement  BlastFurnaceSlag  FlyAsh  Water  Superplasticizer  CoarseAggregate  \\\n",
       "0   540.0               0.0     0.0  162.0               2.5           1040.0   \n",
       "1   540.0               0.0     0.0  162.0               2.5           1055.0   \n",
       "2   332.5             142.5     0.0  228.0               0.0            932.0   \n",
       "3   332.5             142.5     0.0  228.0               0.0            932.0   \n",
       "4   198.6             132.4     0.0  192.0               0.0            978.4   \n",
       "\n",
       "   FineAggregate  Age  CompressiveStrength  \n",
       "0          676.0   28                79.99  \n",
       "1          676.0   28                61.89  \n",
       "2          594.0  270                40.27  \n",
       "3          594.0  365                41.05  \n",
       "4          825.5  360                44.30  "
      ]
     },
     "execution_count": 1,
     "metadata": {},
     "output_type": "execute_result"
    }
   ],
   "source": [
    "import pandas as pd\n",
    "from sklearn.ensemble import RandomForestRegressor\n",
    "from sklearn.model_selection import cross_val_score\n",
    "\n",
    "df = pd.read_csv(\"../input/fe-course-data/concrete.csv\")\n",
    "df.head()"
   ]
  },
  {
   "cell_type": "markdown",
   "id": "1226a244",
   "metadata": {
    "papermill": {
     "duration": 0.001787,
     "end_time": "2025-06-18T04:48:29.513499",
     "exception": false,
     "start_time": "2025-06-18T04:48:29.511712",
     "status": "completed"
    },
    "tags": []
   },
   "source": [
    "You can see here the various ingredients going into each variety of concrete. We'll see in a moment how adding some additional synthetic features derived from these can help a model to learn important relationships among them.\n",
    "\n",
    "We'll first establish a baseline by training the model on the un-augmented dataset. This will help us determine whether our new features are actually useful.\n",
    "\n",
    "Establishing baselines like this is good practice at the start of the feature engineering process. A baseline score can help you decide whether your new features are worth keeping, or whether you should discard them and possibly try something else."
   ]
  },
  {
   "cell_type": "code",
   "execution_count": 2,
   "id": "3e18f3ce",
   "metadata": {
    "execution": {
     "iopub.execute_input": "2025-06-18T04:48:29.518331Z",
     "iopub.status.busy": "2025-06-18T04:48:29.518083Z",
     "iopub.status.idle": "2025-06-18T04:48:36.036491Z",
     "shell.execute_reply": "2025-06-18T04:48:36.035512Z"
    },
    "papermill": {
     "duration": 6.522322,
     "end_time": "2025-06-18T04:48:36.037855",
     "exception": false,
     "start_time": "2025-06-18T04:48:29.515533",
     "status": "completed"
    },
    "tags": []
   },
   "outputs": [
    {
     "name": "stderr",
     "output_type": "stream",
     "text": [
      "[Parallel(n_jobs=5)]: Using backend LokyBackend with 5 concurrent workers.\n",
      "[Parallel(n_jobs=5)]: Done   2 out of   5 | elapsed:    6.2s remaining:    9.3s\n"
     ]
    },
    {
     "name": "stdout",
     "output_type": "stream",
     "text": [
      "MAE Baseline Score: 8.232\n"
     ]
    },
    {
     "name": "stderr",
     "output_type": "stream",
     "text": [
      "[Parallel(n_jobs=5)]: Done   5 out of   5 | elapsed:    6.5s finished\n"
     ]
    }
   ],
   "source": [
    "X = df.copy()\n",
    "y = X.pop(\"CompressiveStrength\")\n",
    "\n",
    "# Train and score baseline model\n",
    "baseline = RandomForestRegressor(criterion=\"absolute_error\", random_state=0)\n",
    "baseline_score = cross_val_score(\n",
    "    baseline, X, y, cv=5, scoring=\"neg_mean_absolute_error\",\n",
    "    n_jobs=5,\n",
    "    verbose=True,\n",
    ")\n",
    "baseline_score = -1 * baseline_score.mean()\n",
    "\n",
    "print(f\"MAE Baseline Score: {baseline_score:.4}\")"
   ]
  },
  {
   "cell_type": "markdown",
   "id": "b282d24e",
   "metadata": {
    "papermill": {
     "duration": 0.002069,
     "end_time": "2025-06-18T04:48:36.042559",
     "exception": false,
     "start_time": "2025-06-18T04:48:36.040490",
     "status": "completed"
    },
    "tags": []
   },
   "source": [
    "If you ever cook at home, you might know that the *ratio* of ingredients in a recipe is usually a better predictor of how the recipe turns out than their absolute amounts. We might reason then that ratios of the features above would be a good predictor of `CompressiveStrength`.\n",
    "\n",
    "The cell below adds three new ratio features to the dataset."
   ]
  },
  {
   "cell_type": "code",
   "execution_count": 3,
   "id": "27dc4724",
   "metadata": {
    "execution": {
     "iopub.execute_input": "2025-06-18T04:48:36.048253Z",
     "iopub.status.busy": "2025-06-18T04:48:36.048006Z",
     "iopub.status.idle": "2025-06-18T04:48:50.308553Z",
     "shell.execute_reply": "2025-06-18T04:48:50.307577Z"
    },
    "papermill": {
     "duration": 14.265078,
     "end_time": "2025-06-18T04:48:50.309831",
     "exception": false,
     "start_time": "2025-06-18T04:48:36.044753",
     "status": "completed"
    },
    "tags": []
   },
   "outputs": [
    {
     "name": "stdout",
     "output_type": "stream",
     "text": [
      "MAE Score with Ratio Features: 7.948\n"
     ]
    }
   ],
   "source": [
    "X = df.copy()\n",
    "y = X.pop(\"CompressiveStrength\")\n",
    "\n",
    "# Create synthetic features\n",
    "X[\"FCRatio\"] = X[\"FineAggregate\"] / X[\"CoarseAggregate\"]\n",
    "X[\"AggCmtRatio\"] = (X[\"CoarseAggregate\"] + X[\"FineAggregate\"]) / X[\"Cement\"]\n",
    "X[\"WtrCmtRatio\"] = X[\"Water\"] / X[\"Cement\"]\n",
    "\n",
    "# Train and score model on dataset with additional ratio features\n",
    "model = RandomForestRegressor(criterion=\"absolute_error\", random_state=0)\n",
    "score = cross_val_score(\n",
    "    model, X, y, cv=5, scoring=\"neg_mean_absolute_error\"\n",
    ")\n",
    "score = -1 * score.mean()\n",
    "\n",
    "print(f\"MAE Score with Ratio Features: {score:.4}\")"
   ]
  },
  {
   "cell_type": "markdown",
   "id": "1ecdb25d",
   "metadata": {
    "papermill": {
     "duration": 0.002263,
     "end_time": "2025-06-18T04:48:50.314696",
     "exception": false,
     "start_time": "2025-06-18T04:48:50.312433",
     "status": "completed"
    },
    "tags": []
   },
   "source": [
    "And sure enough, performance improved! This is evidence that these new ratio features exposed important information to the model that it wasn't detecting before.\n",
    "\n",
    "# Continue #\n",
    "\n",
    "We've seen that engineering new features can improve model performance.  But how do you identify features in the dataset that might be useful to combine?  [**Discover useful features**](https://www.kaggle.com/ryanholbrook/mutual-information) with mutual information."
   ]
  },
  {
   "cell_type": "markdown",
   "id": "2a1fb5a6",
   "metadata": {
    "papermill": {
     "duration": 0.002226,
     "end_time": "2025-06-18T04:48:50.319267",
     "exception": false,
     "start_time": "2025-06-18T04:48:50.317041",
     "status": "completed"
    },
    "tags": []
   },
   "source": [
    "---\n",
    "\n",
    "\n",
    "\n",
    "\n",
    "*Have questions or comments? Visit the [course discussion forum](https://www.kaggle.com/learn/feature-engineering/discussion) to chat with other learners.*"
   ]
  }
 ],
 "metadata": {
  "jupytext": {
   "cell_metadata_filter": "-all",
   "formats": "ipynb"
  },
  "kaggle": {
   "accelerator": "nvidiaTeslaT4",
   "dataSources": [
    {
     "datasetId": 933090,
     "sourceId": 1828856,
     "sourceType": "datasetVersion"
    }
   ],
   "isGpuEnabled": true,
   "isInternetEnabled": false,
   "language": "python",
   "sourceType": "notebook"
  },
  "kernelspec": {
   "display_name": "Python 3",
   "language": "python",
   "name": "python3"
  },
  "language_info": {
   "codemirror_mode": {
    "name": "ipython",
    "version": 3
   },
   "file_extension": ".py",
   "mimetype": "text/x-python",
   "name": "python",
   "nbconvert_exporter": "python",
   "pygments_lexer": "ipython3",
   "version": "3.11.11"
  },
  "papermill": {
   "default_parameters": {},
   "duration": 31.447534,
   "end_time": "2025-06-18T04:48:52.940180",
   "environment_variables": {},
   "exception": null,
   "input_path": "__notebook__.ipynb",
   "output_path": "__notebook__.ipynb",
   "parameters": {},
   "start_time": "2025-06-18T04:48:21.492646",
   "version": "2.6.0"
  }
 },
 "nbformat": 4,
 "nbformat_minor": 5
}
